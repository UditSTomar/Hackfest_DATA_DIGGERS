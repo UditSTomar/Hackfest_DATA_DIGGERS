{
  "nbformat": 4,
  "nbformat_minor": 0,
  "metadata": {
    "colab": {
      "name": "2_3ipynb.ipynb",
      "version": "0.3.2",
      "provenance": []
    },
    "kernelspec": {
      "name": "python3",
      "display_name": "Python 3"
    },
    "accelerator": "GPU"
  },
  "cells": [
    {
      "metadata": {
        "id": "izuM_LK_aOzt",
        "colab_type": "code",
        "outputId": "686aad20-257f-45ed-9983-fffd9c01b83c",
        "colab": {
          "base_uri": "https://localhost:8080/",
          "height": 34
        }
      },
      "cell_type": "code",
      "source": [
        "from google.colab import drive \n",
        "drive.mount('/content/gdrive')"
      ],
      "execution_count": 1,
      "outputs": [
        {
          "output_type": "stream",
          "text": [
            "Drive already mounted at /content/gdrive; to attempt to forcibly remount, call drive.mount(\"/content/gdrive\", force_remount=True).\n"
          ],
          "name": "stdout"
        }
      ]
    },
    {
      "metadata": {
        "id": "L4Wyc_9laSQW",
        "colab_type": "code",
        "colab": {}
      },
      "cell_type": "code",
      "source": [
        "import os\n",
        "import pickle\n",
        "import copy\n",
        "import numpy as np\n",
        "\n",
        "def load_data(path):\n",
        "    with open(path, 'r', encoding='utf-8') as f:\n",
        "        data = f.read()\n",
        "\n",
        "    return data"
      ],
      "execution_count": 0,
      "outputs": []
    },
    {
      "metadata": {
        "id": "uaEhm0d4aSSd",
        "colab_type": "code",
        "colab": {}
      },
      "cell_type": "code",
      "source": [
        "source_path = '/content/gdrive/My Drive/hackfest/Eng.csv'\n",
        "target_path = '/content/gdrive/My Drive/hackfest/Bin.csv'\n",
        "source_text = load_data(source_path)\n",
        "target_text = load_data(target_path)"
      ],
      "execution_count": 0,
      "outputs": []
    },
    {
      "metadata": {
        "id": "z0SCBrZ1aSU1",
        "colab_type": "code",
        "colab": {}
      },
      "cell_type": "code",
      "source": [
        "import numpy as np\n",
        "from collections import Counter"
      ],
      "execution_count": 0,
      "outputs": []
    },
    {
      "metadata": {
        "id": "g379Jgb5aSW1",
        "colab_type": "code",
        "colab": {}
      },
      "cell_type": "code",
      "source": [
        "CODES = {'<PAD>': 0, '<EOS>': 1, '<UNK>': 2, '<GO>': 3 }\n",
        "\n",
        "def create_lookup_tables(text):\n",
        "    # make a list of unique words\n",
        "    vocab = set(text.split())\n",
        "\n",
        "    # (1)\n",
        "    # starts with the special tokens\n",
        "    vocab_to_int = copy.copy(CODES)\n",
        "\n",
        "    # the index (v_i) will starts from 4 (the 2nd arg in enumerate() specifies the starting index)\n",
        "    # since vocab_to_int already contains special tokens\n",
        "    for v_i, v in enumerate(vocab, len(CODES)):\n",
        "        vocab_to_int[v] = v_i\n",
        "\n",
        "    # (2)\n",
        "    int_to_vocab = {v_i: v for v, v_i in vocab_to_int.items()}\n",
        "\n",
        "    return vocab_to_int, int_to_vocab"
      ],
      "execution_count": 0,
      "outputs": []
    },
    {
      "metadata": {
        "id": "Co6jLXnoaSZG",
        "colab_type": "code",
        "colab": {}
      },
      "cell_type": "code",
      "source": [
        "def text_to_ids(source_text, target_text, source_vocab_to_int, target_vocab_to_int):\n",
        "    \"\"\"\n",
        "        1st, 2nd args: raw string text to be converted\n",
        "        3rd, 4th args: lookup tables for 1st and 2nd args respectively\n",
        "    \n",
        "        return: A tuple of lists (source_id_text, target_id_text) converted\n",
        "    \"\"\"\n",
        "    # empty list of converted sentences\n",
        "    source_text_id = []\n",
        "    target_text_id = []\n",
        "    \n",
        "    # make a list of sentences (extraction)\n",
        "    source_sentences = source_text.split(\"\\n\")\n",
        "    target_sentences = target_text.split(\"\\n\")\n",
        "    \n",
        "    max_source_sentence_length = max([len(sentence.split(\" \")) for sentence in source_sentences])\n",
        "    max_target_sentence_length = max([len(sentence.split(\" \")) for sentence in target_sentences])\n",
        "    \n",
        "    # iterating through each sentences (# of sentences in source&target is the same)\n",
        "    for i in range(len(source_sentences)):\n",
        "        # extract sentences one by one\n",
        "        source_sentence = source_sentences[i]\n",
        "        target_sentence = target_sentences[i]\n",
        "        \n",
        "        # make a list of tokens/words (extraction) from the chosen sentence\n",
        "        source_tokens = source_sentence.split(\" \")\n",
        "        target_tokens = target_sentence.split(\" \")\n",
        "        \n",
        "        # empty list of converted words to index in the chosen sentence\n",
        "        source_token_id = []\n",
        "        target_token_id = []\n",
        "        \n",
        "        for index, token in enumerate(source_tokens):\n",
        "            if (token != \"\"):\n",
        "                source_token_id.append(source_vocab_to_int[token])\n",
        "        \n",
        "        for index, token in enumerate(target_tokens):\n",
        "            if (token != \"\"):\n",
        "                target_token_id.append(target_vocab_to_int[token])\n",
        "                \n",
        "        # put <EOS> token at the end of the chosen target sentence\n",
        "        # this token suggests when to stop creating a sequence\n",
        "        target_token_id.append(target_vocab_to_int['<EOS>'])\n",
        "            \n",
        "        # add each converted sentences in the final list\n",
        "        source_text_id.append(source_token_id)\n",
        "        target_text_id.append(target_token_id)\n",
        "    \n",
        "    return source_text_id, target_text_id"
      ],
      "execution_count": 0,
      "outputs": []
    },
    {
      "metadata": {
        "id": "fwv4ayWpaSat",
        "colab_type": "code",
        "colab": {}
      },
      "cell_type": "code",
      "source": [
        "def preprocess_and_save_data(source_path, target_path, text_to_ids):\n",
        "    # Preprocess\n",
        "    \n",
        "    # load original data (English, French)\n",
        "    source_text = load_data(source_path)\n",
        "    target_text = load_data(target_path)\n",
        "\n",
        "    # to the lower case\n",
        "    source_text = source_text.lower()\n",
        "    target_text = target_text.lower()\n",
        "\n",
        "    # create lookup tables for English and French data\n",
        "    source_vocab_to_int, source_int_to_vocab = create_lookup_tables(source_text)\n",
        "    target_vocab_to_int, target_int_to_vocab = create_lookup_tables(target_text)\n",
        "\n",
        "    # create list of sentences whose words are represented in index\n",
        "    source_text, target_text = text_to_ids(source_text, target_text, source_vocab_to_int, target_vocab_to_int)\n",
        "\n",
        "    # Save data for later use\n",
        "    pickle.dump((\n",
        "        (source_text, target_text),\n",
        "        (source_vocab_to_int, target_vocab_to_int),\n",
        "        (source_int_to_vocab, target_int_to_vocab)), open('preprocess.p', 'wb'))"
      ],
      "execution_count": 0,
      "outputs": []
    },
    {
      "metadata": {
        "id": "_qIeRowyaScd",
        "colab_type": "code",
        "colab": {}
      },
      "cell_type": "code",
      "source": [
        "preprocess_and_save_data(source_path, target_path, text_to_ids)"
      ],
      "execution_count": 0,
      "outputs": []
    },
    {
      "metadata": {
        "id": "i2b4KDl0aSeV",
        "colab_type": "code",
        "colab": {}
      },
      "cell_type": "code",
      "source": [
        "import pickle\n",
        "\n",
        "def load_preprocess():\n",
        "    with open('preprocess.p', mode='rb') as in_file:\n",
        "        return pickle.load(in_file)"
      ],
      "execution_count": 0,
      "outputs": []
    },
    {
      "metadata": {
        "id": "Pkl69_vNaSgO",
        "colab_type": "code",
        "colab": {}
      },
      "cell_type": "code",
      "source": [
        "import numpy as np\n",
        "\n",
        "(source_int_text, target_int_text), (source_vocab_to_int, target_vocab_to_int), _ = load_preprocess()"
      ],
      "execution_count": 0,
      "outputs": []
    },
    {
      "metadata": {
        "id": "p87rBeb5aSin",
        "colab_type": "code",
        "colab": {}
      },
      "cell_type": "code",
      "source": [
        "def enc_dec_model_inputs():\n",
        "    inputs = tf.placeholder(tf.int32, [None, None], name='input')\n",
        "    targets = tf.placeholder(tf.int32, [None, None], name='targets') \n",
        "    \n",
        "    target_sequence_length = tf.placeholder(tf.int32, [None], name='target_sequence_length')\n",
        "    max_target_len = tf.reduce_max(target_sequence_length)    \n",
        "    \n",
        "    return inputs, targets, target_sequence_length, max_target_len"
      ],
      "execution_count": 0,
      "outputs": []
    },
    {
      "metadata": {
        "id": "kjJbeUtWaSlQ",
        "colab_type": "code",
        "colab": {}
      },
      "cell_type": "code",
      "source": [
        "def hyperparam_inputs():\n",
        "    lr_rate = tf.placeholder(tf.float32, name='lr_rate')\n",
        "    keep_prob = tf.placeholder(tf.float32, name='keep_prob')\n",
        "    \n",
        "    return lr_rate, keep_prob"
      ],
      "execution_count": 0,
      "outputs": []
    },
    {
      "metadata": {
        "id": "nuoQwJMfaSnq",
        "colab_type": "code",
        "colab": {}
      },
      "cell_type": "code",
      "source": [
        "def process_decoder_input(target_data, target_vocab_to_int, batch_size):\n",
        "    \n",
        "    go_id = target_vocab_to_int['<GO>']\n",
        "    \n",
        "    after_slice = tf.strided_slice(target_data, [0, 0], [batch_size, -1], [1, 1])\n",
        "    after_concat = tf.concat( [tf.fill([batch_size, 1], go_id), after_slice], 1)\n",
        "    \n",
        "    return after_concat"
      ],
      "execution_count": 0,
      "outputs": []
    },
    {
      "metadata": {
        "id": "VEuWb_KAaSpf",
        "colab_type": "code",
        "colab": {}
      },
      "cell_type": "code",
      "source": [
        "def encoding_layer(rnn_inputs, rnn_size, num_layers, keep_prob, \n",
        "                   source_vocab_size, \n",
        "                   encoding_embedding_size):\n",
        "    \n",
        "    embed = tf.contrib.layers.embed_sequence(rnn_inputs, \n",
        "                                             vocab_size=source_vocab_size, \n",
        "                                             embed_dim=encoding_embedding_size)\n",
        "    \n",
        "    stacked_cells = tf.contrib.rnn.MultiRNNCell([tf.contrib.rnn.DropoutWrapper(tf.contrib.rnn.LSTMCell(rnn_size), keep_prob) for _ in range(num_layers)])\n",
        "    \n",
        "    outputs, state = tf.nn.dynamic_rnn(stacked_cells, \n",
        "                                       embed, \n",
        "                                       dtype=tf.float32)\n",
        "    return outputs, state"
      ],
      "execution_count": 0,
      "outputs": []
    },
    {
      "metadata": {
        "id": "UoP27cvNaSu9",
        "colab_type": "code",
        "colab": {}
      },
      "cell_type": "code",
      "source": [
        "def decoding_layer_train(encoder_state, dec_cell, dec_embed_input, \n",
        "                         target_sequence_length, max_summary_length, \n",
        "                         output_layer, keep_prob):\n",
        "    \n",
        "    dec_cell = tf.contrib.rnn.DropoutWrapper(dec_cell, \n",
        "                                             output_keep_prob=keep_prob)\n",
        "    \n",
        "    # for only input layer\n",
        "    helper = tf.contrib.seq2seq.TrainingHelper(dec_embed_input, \n",
        "                                               target_sequence_length)\n",
        "    \n",
        "    decoder = tf.contrib.seq2seq.BasicDecoder(dec_cell, \n",
        "                                              helper, \n",
        "                                              encoder_state, \n",
        "                                              output_layer)\n",
        "\n",
        "    # unrolling the decoder layer\n",
        "    outputs, _, _ = tf.contrib.seq2seq.dynamic_decode(decoder, \n",
        "                                                      impute_finished=True, \n",
        "                                                      maximum_iterations=max_summary_length)\n",
        "    return outputs"
      ],
      "execution_count": 0,
      "outputs": []
    },
    {
      "metadata": {
        "id": "QTu4MyMYa4_t",
        "colab_type": "code",
        "colab": {}
      },
      "cell_type": "code",
      "source": [
        "def decoding_layer_infer(encoder_state, dec_cell, dec_embeddings, start_of_sequence_id,\n",
        "                         end_of_sequence_id, max_target_sequence_length,\n",
        "                         vocab_size, output_layer, batch_size, keep_prob):\n",
        "    \"\"\"\n",
        "    Create a inference process in decoding layer \n",
        "    :return: BasicDecoderOutput containing inference logits and sample_id\n",
        "    \"\"\"\n",
        "    dec_cell = tf.contrib.rnn.DropoutWrapper(dec_cell, \n",
        "                                             output_keep_prob=keep_prob)\n",
        "    \n",
        "    helper = tf.contrib.seq2seq.GreedyEmbeddingHelper(dec_embeddings, \n",
        "                                                      tf.fill([batch_size], start_of_sequence_id), \n",
        "                                                      end_of_sequence_id)\n",
        "    \n",
        "    decoder = tf.contrib.seq2seq.BasicDecoder(dec_cell, \n",
        "                                              helper, \n",
        "                                              encoder_state, \n",
        "                                              output_layer)\n",
        "    \n",
        "    outputs, _, _ = tf.contrib.seq2seq.dynamic_decode(decoder, \n",
        "                                                      impute_finished=True, \n",
        "                                                      maximum_iterations=max_target_sequence_length)\n",
        "    return outputs"
      ],
      "execution_count": 0,
      "outputs": []
    },
    {
      "metadata": {
        "id": "w7mvCy_Ka5CB",
        "colab_type": "code",
        "colab": {}
      },
      "cell_type": "code",
      "source": [
        "def decoding_layer(dec_input, encoder_state,\n",
        "                   target_sequence_length, max_target_sequence_length,\n",
        "                   rnn_size,\n",
        "                   num_layers, target_vocab_to_int, target_vocab_size,\n",
        "                   batch_size, keep_prob, decoding_embedding_size):\n",
        "    target_vocab_size = len(target_vocab_to_int)\n",
        "    dec_embeddings = tf.Variable(tf.random_uniform([target_vocab_size, decoding_embedding_size]))\n",
        "    dec_embed_input = tf.nn.embedding_lookup(dec_embeddings, dec_input)\n",
        "    \n",
        "    cells = tf.contrib.rnn.MultiRNNCell([tf.contrib.rnn.LSTMCell(rnn_size) for _ in range(num_layers)])\n",
        "    \n",
        "    with tf.variable_scope(\"decode\"):\n",
        "        output_layer = tf.layers.Dense(target_vocab_size)\n",
        "        train_output = decoding_layer_train(encoder_state, \n",
        "                                            cells, \n",
        "                                            dec_embed_input, \n",
        "                                            target_sequence_length, \n",
        "                                            max_target_sequence_length, \n",
        "                                            output_layer, \n",
        "                                            keep_prob)\n",
        "\n",
        "    with tf.variable_scope(\"decode\", reuse=True):\n",
        "        infer_output = decoding_layer_infer(encoder_state, \n",
        "                                            cells, \n",
        "                                            dec_embeddings, \n",
        "                                            target_vocab_to_int['<GO>'], \n",
        "                                            target_vocab_to_int['<EOS>'], \n",
        "                                            max_target_sequence_length, \n",
        "                                            target_vocab_size, \n",
        "                                            output_layer,\n",
        "                                            batch_size,\n",
        "                                            keep_prob)\n",
        "\n",
        "    return (train_output, infer_output)"
      ],
      "execution_count": 0,
      "outputs": []
    },
    {
      "metadata": {
        "id": "RzP4QMBTa5Ef",
        "colab_type": "code",
        "colab": {}
      },
      "cell_type": "code",
      "source": [
        "def seq2seq_model(input_data, target_data, keep_prob, batch_size,\n",
        "                  target_sequence_length,\n",
        "                  max_target_sentence_length,\n",
        "                  source_vocab_size, target_vocab_size,\n",
        "                  enc_embedding_size, dec_embedding_size,\n",
        "                  rnn_size, num_layers, target_vocab_to_int):\n",
        "    \"\"\"\n",
        "    Build the Sequence-to-Sequence model\n",
        "    :return: Tuple of (Training BasicDecoderOutput, Inference BasicDecoderOutput)\n",
        "    \"\"\"\n",
        "    enc_outputs, enc_states = encoding_layer(input_data, \n",
        "                                             rnn_size, \n",
        "                                             num_layers, \n",
        "                                             keep_prob, \n",
        "                                             source_vocab_size, \n",
        "                                             enc_embedding_size)\n",
        "    \n",
        "    dec_input = process_decoder_input(target_data, \n",
        "                                      target_vocab_to_int, \n",
        "                                      batch_size)\n",
        "    \n",
        "    train_output, infer_output = decoding_layer(dec_input,\n",
        "                                               enc_states, \n",
        "                                               target_sequence_length, \n",
        "                                               max_target_sentence_length,\n",
        "                                               rnn_size,\n",
        "                                              num_layers,\n",
        "                                              target_vocab_to_int,\n",
        "                                              target_vocab_size,\n",
        "                                              batch_size,\n",
        "                                              keep_prob,\n",
        "                                              dec_embedding_size)\n",
        "    \n",
        "    return train_output, infer_output"
      ],
      "execution_count": 0,
      "outputs": []
    },
    {
      "metadata": {
        "id": "GijJwi10a5Gx",
        "colab_type": "code",
        "colab": {}
      },
      "cell_type": "code",
      "source": [
        "display_step = 2\n",
        "\n",
        "epochs = 100\n",
        "batch_size = 15\n",
        "\n",
        "rnn_size = 50\n",
        "num_layers = 5\n",
        "\n",
        "encoding_embedding_size = 15\n",
        "decoding_embedding_size = 15\n",
        "\n",
        "learning_rate = 0.001\n",
        "keep_probability = 0.5"
      ],
      "execution_count": 0,
      "outputs": []
    },
    {
      "metadata": {
        "id": "Yl2N2dQDa5JH",
        "colab_type": "code",
        "colab": {}
      },
      "cell_type": "code",
      "source": [
        "import tensorflow as tf\n",
        "save_path = 'checkpoints/dev'\n",
        "(source_int_text, target_int_text), (source_vocab_to_int, target_vocab_to_int), _ = load_preprocess()\n",
        "max_target_sentence_length = max([len(sentence) for sentence in source_int_text])\n",
        "\n",
        "train_graph = tf.Graph()\n",
        "with train_graph.as_default():\n",
        "    input_data, targets, target_sequence_length, max_target_sequence_length = enc_dec_model_inputs()\n",
        "    lr, keep_prob = hyperparam_inputs()\n",
        "    \n",
        "    train_logits, inference_logits = seq2seq_model(tf.reverse(input_data, [-1]),\n",
        "                                                   targets,\n",
        "                                                   keep_prob,\n",
        "                                                   batch_size,\n",
        "                                                   target_sequence_length,\n",
        "                                                   max_target_sequence_length,\n",
        "                                                   len(source_vocab_to_int),\n",
        "                                                   len(target_vocab_to_int),\n",
        "                                                   encoding_embedding_size,\n",
        "                                                   decoding_embedding_size,\n",
        "                                                   rnn_size,\n",
        "                                                   num_layers,\n",
        "                                                   target_vocab_to_int)\n",
        "    \n",
        "    training_logits = tf.identity(train_logits.rnn_output, name='logits')\n",
        "    inference_logits = tf.identity(inference_logits.sample_id, name='predictions')\n",
        "\n",
        "    # https://www.tensorflow.org/api_docs/python/tf/sequence_mask\n",
        "    # - Returns a mask tensor representing the first N positions of each cell.\n",
        "    masks = tf.sequence_mask(target_sequence_length, max_target_sequence_length, dtype=tf.float32, name='masks')\n",
        "\n",
        "    with tf.name_scope(\"optimization\"):\n",
        "        # Loss function - weighted softmax cross entropy\n",
        "        cost = tf.contrib.seq2seq.sequence_loss(\n",
        "            training_logits,\n",
        "            targets,\n",
        "            masks)\n",
        "\n",
        "        # Optimizer\n",
        "        optimizer = tf.train.AdamOptimizer(lr)\n",
        "\n",
        "        # Gradient Clipping\n",
        "        gradients = optimizer.compute_gradients(cost)\n",
        "        capped_gradients = [(tf.clip_by_value(grad, -1., 1.), var) for grad, var in gradients if grad is not None]\n",
        "        train_op = optimizer.apply_gradients(capped_gradients)"
      ],
      "execution_count": 0,
      "outputs": []
    },
    {
      "metadata": {
        "id": "N23ePGkabKGz",
        "colab_type": "code",
        "colab": {}
      },
      "cell_type": "code",
      "source": [
        "def pad_sentence_batch(sentence_batch, pad_int):\n",
        "    \"\"\"Pad sentences with <PAD> so that each sentence of a batch has the same length\"\"\"\n",
        "    max_sentence = max([len(sentence) for sentence in sentence_batch])\n",
        "    return [sentence + [pad_int] * (max_sentence - len(sentence)) for sentence in sentence_batch]\n",
        "\n",
        "\n",
        "def get_batches(sources, targets, batch_size, source_pad_int, target_pad_int):\n",
        "    \"\"\"Batch targets, sources, and the lengths of their sentences together\"\"\"\n",
        "    for batch_i in range(0, len(sources)//batch_size):\n",
        "        start_i = batch_i * batch_size\n",
        "\n",
        "        # Slice the right amount for the batch\n",
        "        sources_batch = sources[start_i:start_i + batch_size]\n",
        "        targets_batch = targets[start_i:start_i + batch_size]\n",
        "\n",
        "        # Pad\n",
        "        pad_sources_batch = np.array(pad_sentence_batch(sources_batch, source_pad_int))\n",
        "        pad_targets_batch = np.array(pad_sentence_batch(targets_batch, target_pad_int))\n",
        "\n",
        "        # Need the lengths for the _lengths parameters\n",
        "        pad_targets_lengths = []\n",
        "        for target in pad_targets_batch:\n",
        "            pad_targets_lengths.append(len(target))\n",
        "\n",
        "        pad_source_lengths = []\n",
        "        for source in pad_sources_batch:\n",
        "            pad_source_lengths.append(len(source))\n",
        "\n",
        "        yield pad_sources_batch, pad_targets_batch, pad_source_lengths, pad_targets_lengths"
      ],
      "execution_count": 0,
      "outputs": []
    },
    {
      "metadata": {
        "id": "xNoqGtQXbKJi",
        "colab_type": "code",
        "colab": {
          "base_uri": "https://localhost:8080/",
          "height": 1714
        },
        "outputId": "5c22fb26-2c7d-4119-d2d5-b3e5315f8562"
      },
      "cell_type": "code",
      "source": [
        "def get_accuracy(target, logits):\n",
        "    \"\"\"\n",
        "    Calculate accuracy\n",
        "    \"\"\"\n",
        "    max_seq = max(target.shape[1], logits.shape[1])\n",
        "    if max_seq - target.shape[1]:\n",
        "        target = np.pad(\n",
        "            target,\n",
        "            [(0,0),(0,max_seq - target.shape[1])],\n",
        "            'constant')\n",
        "    if max_seq - logits.shape[1]:\n",
        "        logits = np.pad(\n",
        "            logits,\n",
        "            [(0,0),(0,max_seq - logits.shape[1])],\n",
        "            'constant')\n",
        "\n",
        "    return np.mean(np.equal(target, logits))\n",
        "# Split data to training and validation sets\n",
        "train_source = source_int_text[batch_size:]\n",
        "train_target = target_int_text[batch_size:]\n",
        "valid_source = source_int_text[:batch_size]\n",
        "valid_target = target_int_text[:batch_size]\n",
        "(valid_sources_batch, valid_targets_batch, valid_sources_lengths, valid_targets_lengths ) = next(get_batches(valid_source,\n",
        "                                                                                                             valid_target,\n",
        "                                                                                                             batch_size,\n",
        "                                                                                                             source_vocab_to_int['<PAD>'],\n",
        "                                                                                                             target_vocab_to_int['<PAD>']))                                                                                                  \n",
        "with tf.Session(graph=train_graph) as sess:\n",
        "    sess.run(tf.global_variables_initializer())\n",
        "\n",
        "    for epoch_i in range(epochs):\n",
        "        for batch_i, (source_batch, target_batch, sources_lengths, targets_lengths) in enumerate(\n",
        "                get_batches(train_source, train_target, batch_size,\n",
        "                            source_vocab_to_int['<PAD>'],\n",
        "                            target_vocab_to_int['<PAD>'])):\n",
        "\n",
        "            _, loss = sess.run(\n",
        "                [train_op, cost],\n",
        "                {input_data: source_batch,\n",
        "                 targets: target_batch,\n",
        "                 lr: learning_rate,\n",
        "                 target_sequence_length: targets_lengths,\n",
        "                 keep_prob: keep_probability})\n",
        "\n",
        "\n",
        "            if batch_i % display_step == 0 and batch_i > 0:\n",
        "                batch_train_logits = sess.run(\n",
        "                    inference_logits,\n",
        "                    {input_data: source_batch,\n",
        "                     target_sequence_length: targets_lengths,\n",
        "                     keep_prob: 1.0})\n",
        "\n",
        "                batch_valid_logits = sess.run(\n",
        "                    inference_logits,\n",
        "                    {input_data: valid_sources_batch,\n",
        "                     target_sequence_length: valid_targets_lengths,\n",
        "                     keep_prob: 1.0})\n",
        "\n",
        "                train_acc = get_accuracy(target_batch, batch_train_logits)\n",
        "                valid_acc = get_accuracy(valid_targets_batch, batch_valid_logits)\n",
        "\n",
        "                print('Epoch {:>3} Batch {:>4}/{} - Train Accuracy: {:>6.4f}, Validation Accuracy: {:>6.4f}, Loss: {:>6.4f}'\n",
        "                      .format(epoch_i, batch_i, len(source_int_text) // batch_size, train_acc, valid_acc, loss))\n",
        "\n",
        "    # Save Model\n",
        "    saver = tf.train.Saver()\n",
        "    saver.save(sess, save_path)\n",
        "    print('Model Trained and Saved')"
      ],
      "execution_count": 68,
      "outputs": [
        {
          "output_type": "stream",
          "text": [
            "Epoch   0 Batch    2/4 - Train Accuracy: 0.5542, Validation Accuracy: 0.3417, Loss: 3.5396\n",
            "Epoch   1 Batch    2/4 - Train Accuracy: 0.5542, Validation Accuracy: 0.3417, Loss: 3.4171\n",
            "Epoch   2 Batch    2/4 - Train Accuracy: 0.5542, Validation Accuracy: 0.3417, Loss: 3.1240\n",
            "Epoch   3 Batch    2/4 - Train Accuracy: 0.5542, Validation Accuracy: 0.3417, Loss: 2.6373\n",
            "Epoch   4 Batch    2/4 - Train Accuracy: 0.5542, Validation Accuracy: 0.3417, Loss: 2.3204\n",
            "Epoch   5 Batch    2/4 - Train Accuracy: 0.5542, Validation Accuracy: 0.3417, Loss: 2.2196\n",
            "Epoch   6 Batch    2/4 - Train Accuracy: 0.5542, Validation Accuracy: 0.3417, Loss: 2.1800\n",
            "Epoch   7 Batch    2/4 - Train Accuracy: 0.5542, Validation Accuracy: 0.3417, Loss: 2.1568\n",
            "Epoch   8 Batch    2/4 - Train Accuracy: 0.5625, Validation Accuracy: 0.3417, Loss: 2.1491\n",
            "Epoch   9 Batch    2/4 - Train Accuracy: 0.5625, Validation Accuracy: 0.3417, Loss: 1.9619\n",
            "Epoch  10 Batch    2/4 - Train Accuracy: 0.5917, Validation Accuracy: 0.3417, Loss: 1.9426\n",
            "Epoch  11 Batch    2/4 - Train Accuracy: 0.5917, Validation Accuracy: 0.3417, Loss: 1.9723\n",
            "Epoch  12 Batch    2/4 - Train Accuracy: 0.5917, Validation Accuracy: 0.3417, Loss: 1.9408\n",
            "Epoch  13 Batch    2/4 - Train Accuracy: 0.5917, Validation Accuracy: 0.3417, Loss: 1.8864\n",
            "Epoch  14 Batch    2/4 - Train Accuracy: 0.5917, Validation Accuracy: 0.3417, Loss: 1.8309\n",
            "Epoch  15 Batch    2/4 - Train Accuracy: 0.5875, Validation Accuracy: 0.3417, Loss: 1.8500\n",
            "Epoch  16 Batch    2/4 - Train Accuracy: 0.5917, Validation Accuracy: 0.3417, Loss: 1.7792\n",
            "Epoch  17 Batch    2/4 - Train Accuracy: 0.6000, Validation Accuracy: 0.3417, Loss: 1.7784\n",
            "Epoch  18 Batch    2/4 - Train Accuracy: 0.5958, Validation Accuracy: 0.3417, Loss: 1.7376\n",
            "Epoch  19 Batch    2/4 - Train Accuracy: 0.6000, Validation Accuracy: 0.3417, Loss: 1.6775\n",
            "Epoch  20 Batch    2/4 - Train Accuracy: 0.5875, Validation Accuracy: 0.3417, Loss: 1.6385\n",
            "Epoch  21 Batch    2/4 - Train Accuracy: 0.5833, Validation Accuracy: 0.3417, Loss: 1.6245\n",
            "Epoch  22 Batch    2/4 - Train Accuracy: 0.5833, Validation Accuracy: 0.3417, Loss: 1.6686\n",
            "Epoch  23 Batch    2/4 - Train Accuracy: 0.5875, Validation Accuracy: 0.3417, Loss: 1.6029\n",
            "Epoch  24 Batch    2/4 - Train Accuracy: 0.6000, Validation Accuracy: 0.3500, Loss: 1.6058\n",
            "Epoch  25 Batch    2/4 - Train Accuracy: 0.5917, Validation Accuracy: 0.3417, Loss: 1.6227\n",
            "Epoch  26 Batch    2/4 - Train Accuracy: 0.5917, Validation Accuracy: 0.3417, Loss: 1.6098\n",
            "Epoch  27 Batch    2/4 - Train Accuracy: 0.6042, Validation Accuracy: 0.3583, Loss: 1.5772\n",
            "Epoch  28 Batch    2/4 - Train Accuracy: 0.5917, Validation Accuracy: 0.3417, Loss: 1.6120\n",
            "Epoch  29 Batch    2/4 - Train Accuracy: 0.5875, Validation Accuracy: 0.3417, Loss: 1.5451\n",
            "Epoch  30 Batch    2/4 - Train Accuracy: 0.5917, Validation Accuracy: 0.3667, Loss: 1.5314\n",
            "Epoch  31 Batch    2/4 - Train Accuracy: 0.6000, Validation Accuracy: 0.3750, Loss: 1.5420\n",
            "Epoch  32 Batch    2/4 - Train Accuracy: 0.5875, Validation Accuracy: 0.3417, Loss: 1.4951\n",
            "Epoch  33 Batch    2/4 - Train Accuracy: 0.5917, Validation Accuracy: 0.3500, Loss: 1.5638\n",
            "Epoch  34 Batch    2/4 - Train Accuracy: 0.6000, Validation Accuracy: 0.3667, Loss: 1.5169\n",
            "Epoch  35 Batch    2/4 - Train Accuracy: 0.6000, Validation Accuracy: 0.3667, Loss: 1.5374\n",
            "Epoch  36 Batch    2/4 - Train Accuracy: 0.6000, Validation Accuracy: 0.3667, Loss: 1.4547\n",
            "Epoch  37 Batch    2/4 - Train Accuracy: 0.5917, Validation Accuracy: 0.3667, Loss: 1.4570\n",
            "Epoch  38 Batch    2/4 - Train Accuracy: 0.5917, Validation Accuracy: 0.3667, Loss: 1.4778\n",
            "Epoch  39 Batch    2/4 - Train Accuracy: 0.6000, Validation Accuracy: 0.3667, Loss: 1.4364\n",
            "Epoch  40 Batch    2/4 - Train Accuracy: 0.6042, Validation Accuracy: 0.3750, Loss: 1.5352\n",
            "Epoch  41 Batch    2/4 - Train Accuracy: 0.5917, Validation Accuracy: 0.3417, Loss: 1.4413\n",
            "Epoch  42 Batch    2/4 - Train Accuracy: 0.5917, Validation Accuracy: 0.3500, Loss: 1.4986\n",
            "Epoch  43 Batch    2/4 - Train Accuracy: 0.5958, Validation Accuracy: 0.3750, Loss: 1.5318\n",
            "Epoch  44 Batch    2/4 - Train Accuracy: 0.5875, Validation Accuracy: 0.3417, Loss: 1.4688\n",
            "Epoch  45 Batch    2/4 - Train Accuracy: 0.5958, Validation Accuracy: 0.3417, Loss: 1.4585\n",
            "Epoch  46 Batch    2/4 - Train Accuracy: 0.6125, Validation Accuracy: 0.3583, Loss: 1.4547\n",
            "Epoch  47 Batch    2/4 - Train Accuracy: 0.5958, Validation Accuracy: 0.3500, Loss: 1.4065\n",
            "Epoch  48 Batch    2/4 - Train Accuracy: 0.6000, Validation Accuracy: 0.3417, Loss: 1.4537\n",
            "Epoch  49 Batch    2/4 - Train Accuracy: 0.6042, Validation Accuracy: 0.3417, Loss: 1.3902\n",
            "Epoch  50 Batch    2/4 - Train Accuracy: 0.6125, Validation Accuracy: 0.3417, Loss: 1.4261\n",
            "Epoch  51 Batch    2/4 - Train Accuracy: 0.6000, Validation Accuracy: 0.3417, Loss: 1.4128\n",
            "Epoch  52 Batch    2/4 - Train Accuracy: 0.6083, Validation Accuracy: 0.3500, Loss: 1.3929\n",
            "Epoch  53 Batch    2/4 - Train Accuracy: 0.6125, Validation Accuracy: 0.3583, Loss: 1.4878\n",
            "Epoch  54 Batch    2/4 - Train Accuracy: 0.6042, Validation Accuracy: 0.3417, Loss: 1.4201\n",
            "Epoch  55 Batch    2/4 - Train Accuracy: 0.6000, Validation Accuracy: 0.3500, Loss: 1.3952\n",
            "Epoch  56 Batch    2/4 - Train Accuracy: 0.6083, Validation Accuracy: 0.3500, Loss: 1.3761\n",
            "Epoch  57 Batch    2/4 - Train Accuracy: 0.6083, Validation Accuracy: 0.3417, Loss: 1.4224\n",
            "Epoch  58 Batch    2/4 - Train Accuracy: 0.6167, Validation Accuracy: 0.3500, Loss: 1.3945\n",
            "Epoch  59 Batch    2/4 - Train Accuracy: 0.6167, Validation Accuracy: 0.3500, Loss: 1.3550\n",
            "Epoch  60 Batch    2/4 - Train Accuracy: 0.6125, Validation Accuracy: 0.3917, Loss: 1.3430\n",
            "Epoch  61 Batch    2/4 - Train Accuracy: 0.6042, Validation Accuracy: 0.3500, Loss: 1.3502\n",
            "Epoch  62 Batch    2/4 - Train Accuracy: 0.6083, Validation Accuracy: 0.4083, Loss: 1.3442\n",
            "Epoch  63 Batch    2/4 - Train Accuracy: 0.6125, Validation Accuracy: 0.3667, Loss: 1.3681\n",
            "Epoch  64 Batch    2/4 - Train Accuracy: 0.6167, Validation Accuracy: 0.3500, Loss: 1.3138\n",
            "Epoch  65 Batch    2/4 - Train Accuracy: 0.6625, Validation Accuracy: 0.4167, Loss: 1.3534\n",
            "Epoch  66 Batch    2/4 - Train Accuracy: 0.6333, Validation Accuracy: 0.4083, Loss: 1.4662\n",
            "Epoch  67 Batch    2/4 - Train Accuracy: 0.6042, Validation Accuracy: 0.3667, Loss: 1.4200\n",
            "Epoch  68 Batch    2/4 - Train Accuracy: 0.6292, Validation Accuracy: 0.4333, Loss: 1.3578\n",
            "Epoch  69 Batch    2/4 - Train Accuracy: 0.6167, Validation Accuracy: 0.4250, Loss: 1.3240\n",
            "Epoch  70 Batch    2/4 - Train Accuracy: 0.6042, Validation Accuracy: 0.3583, Loss: 1.3211\n",
            "Epoch  71 Batch    2/4 - Train Accuracy: 0.6125, Validation Accuracy: 0.3583, Loss: 1.2588\n",
            "Epoch  72 Batch    2/4 - Train Accuracy: 0.6208, Validation Accuracy: 0.4333, Loss: 1.2842\n",
            "Epoch  73 Batch    2/4 - Train Accuracy: 0.6208, Validation Accuracy: 0.4833, Loss: 1.3065\n",
            "Epoch  74 Batch    2/4 - Train Accuracy: 0.6250, Validation Accuracy: 0.4917, Loss: 1.3434\n",
            "Epoch  75 Batch    2/4 - Train Accuracy: 0.6167, Validation Accuracy: 0.4917, Loss: 1.2869\n",
            "Epoch  76 Batch    2/4 - Train Accuracy: 0.6125, Validation Accuracy: 0.4667, Loss: 1.3187\n",
            "Epoch  77 Batch    2/4 - Train Accuracy: 0.6125, Validation Accuracy: 0.4833, Loss: 1.2617\n",
            "Epoch  78 Batch    2/4 - Train Accuracy: 0.6250, Validation Accuracy: 0.5250, Loss: 1.2618\n",
            "Epoch  79 Batch    2/4 - Train Accuracy: 0.6167, Validation Accuracy: 0.4917, Loss: 1.2706\n",
            "Epoch  80 Batch    2/4 - Train Accuracy: 0.6250, Validation Accuracy: 0.5250, Loss: 1.3033\n",
            "Epoch  81 Batch    2/4 - Train Accuracy: 0.6375, Validation Accuracy: 0.5167, Loss: 1.3214\n",
            "Epoch  82 Batch    2/4 - Train Accuracy: 0.6208, Validation Accuracy: 0.5083, Loss: 1.2821\n",
            "Epoch  83 Batch    2/4 - Train Accuracy: 0.6458, Validation Accuracy: 0.5417, Loss: 1.2681\n",
            "Epoch  84 Batch    2/4 - Train Accuracy: 0.6333, Validation Accuracy: 0.5167, Loss: 1.2400\n",
            "Epoch  85 Batch    2/4 - Train Accuracy: 0.6208, Validation Accuracy: 0.4583, Loss: 1.3195\n",
            "Epoch  86 Batch    2/4 - Train Accuracy: 0.6417, Validation Accuracy: 0.5083, Loss: 1.2520\n",
            "Epoch  87 Batch    2/4 - Train Accuracy: 0.6542, Validation Accuracy: 0.5417, Loss: 1.2786\n",
            "Epoch  88 Batch    2/4 - Train Accuracy: 0.6250, Validation Accuracy: 0.5417, Loss: 1.2472\n",
            "Epoch  89 Batch    2/4 - Train Accuracy: 0.6208, Validation Accuracy: 0.5417, Loss: 1.3497\n",
            "Epoch  90 Batch    2/4 - Train Accuracy: 0.6292, Validation Accuracy: 0.5083, Loss: 1.2169\n",
            "Epoch  91 Batch    2/4 - Train Accuracy: 0.6458, Validation Accuracy: 0.5083, Loss: 1.2374\n",
            "Epoch  92 Batch    2/4 - Train Accuracy: 0.6208, Validation Accuracy: 0.5000, Loss: 1.2120\n",
            "Epoch  93 Batch    2/4 - Train Accuracy: 0.6708, Validation Accuracy: 0.5083, Loss: 1.2423\n",
            "Epoch  94 Batch    2/4 - Train Accuracy: 0.6458, Validation Accuracy: 0.5417, Loss: 1.2697\n",
            "Epoch  95 Batch    2/4 - Train Accuracy: 0.6208, Validation Accuracy: 0.5417, Loss: 1.2771\n",
            "Epoch  96 Batch    2/4 - Train Accuracy: 0.6417, Validation Accuracy: 0.5583, Loss: 1.1818\n",
            "Epoch  97 Batch    2/4 - Train Accuracy: 0.6500, Validation Accuracy: 0.5583, Loss: 1.2345\n",
            "Epoch  98 Batch    2/4 - Train Accuracy: 0.6250, Validation Accuracy: 0.5250, Loss: 1.2660\n",
            "Epoch  99 Batch    2/4 - Train Accuracy: 0.6958, Validation Accuracy: 0.5417, Loss: 1.2422\n",
            "Model Trained and Saved\n"
          ],
          "name": "stdout"
        }
      ]
    },
    {
      "metadata": {
        "id": "r_M-CU1cbKLf",
        "colab_type": "code",
        "colab": {}
      },
      "cell_type": "code",
      "source": [
        "def save_params(params):\n",
        "    with open('params.p', 'wb') as out_file:\n",
        "        pickle.dump(params, out_file)\n",
        "\n",
        "\n",
        "def load_params():\n",
        "    with open('params.p', mode='rb') as in_file:\n",
        "        return pickle.load(in_file)"
      ],
      "execution_count": 0,
      "outputs": []
    },
    {
      "metadata": {
        "id": "eol1_ndobKN7",
        "colab_type": "code",
        "colab": {}
      },
      "cell_type": "code",
      "source": [
        "save_params(save_path)"
      ],
      "execution_count": 0,
      "outputs": []
    },
    {
      "metadata": {
        "id": "W8LKJY6xbXsH",
        "colab_type": "code",
        "colab": {}
      },
      "cell_type": "code",
      "source": [
        "import tensorflow as tf\n",
        "import numpy as np\n",
        "#import problem_unittests as tests\n",
        "\n",
        "_, (source_vocab_to_int, target_vocab_to_int), (source_int_to_vocab, target_int_to_vocab) = load_preprocess()\n",
        "load_path = load_params()"
      ],
      "execution_count": 0,
      "outputs": []
    },
    {
      "metadata": {
        "id": "wJYcZ1bIbXw-",
        "colab_type": "code",
        "outputId": "975561c6-5678-48a0-f252-942cbcfd6066",
        "colab": {
          "base_uri": "https://localhost:8080/",
          "height": 151
        }
      },
      "cell_type": "code",
      "source": [
        "def sentence_to_seq(sentence, vocab_to_int):\n",
        "    results = []\n",
        "    for word in sentence.split(\" \"):\n",
        "        if word in vocab_to_int:\n",
        "            results.append(vocab_to_int[word])\n",
        "        else:\n",
        "            results.append(vocab_to_int['<UNK>'])\n",
        "            \n",
        "    return results\n",
        "\n",
        "translate_sentence = 'i am eating a burger'\n",
        "\n",
        "translate_sentence = sentence_to_seq(translate_sentence, source_vocab_to_int)\n",
        "\n",
        "loaded_graph = tf.Graph()\n",
        "with tf.Session(graph=loaded_graph) as sess:\n",
        "    # Load saved model\n",
        "    loader = tf.train.import_meta_graph(load_path + '.meta')\n",
        "    loader.restore(sess, load_path)\n",
        "\n",
        "    input_data = loaded_graph.get_tensor_by_name('input:0')\n",
        "    logits = loaded_graph.get_tensor_by_name('predictions:0')\n",
        "    target_sequence_length = loaded_graph.get_tensor_by_name('target_sequence_length:0')\n",
        "    keep_prob = loaded_graph.get_tensor_by_name('keep_prob:0')\n",
        "\n",
        "    translate_logits = sess.run(logits, {input_data: [translate_sentence]*batch_size,\n",
        "                                         target_sequence_length: [len(translate_sentence)*2]*batch_size,\n",
        "                                         keep_prob: 1.0})[0]\n",
        "\n",
        "print('Input')\n",
        "print('  Word Ids:      {}'.format([i for i in translate_sentence]))\n",
        "print('  English Words: {}'.format([source_int_to_vocab[i] for i in translate_sentence]))\n",
        "\n",
        "print('\\nPrediction')\n",
        "print('  Word Ids:      {}'.format([i for i in translate_logits]))\n",
        "print('  Vibration Binary words: {}'.format(\" \".join([target_int_to_vocab[i] for i in translate_logits])))"
      ],
      "execution_count": 72,
      "outputs": [
        {
          "output_type": "stream",
          "text": [
            "INFO:tensorflow:Restoring parameters from checkpoints/dev\n",
            "Input\n",
            "  Word Ids:      [24, 19, 30, 27, 32]\n",
            "  English Words: ['i', 'am', 'eating', 'a', 'burger']\n",
            "\n",
            "Prediction\n",
            "  Word Ids:      [28, 28, 19, 19, 1]\n",
            "  French Words: 00000 00000 11000 11000 <EOS>\n"
          ],
          "name": "stdout"
        }
      ]
    },
    {
      "metadata": {
        "id": "C3lWOV6xbXzt",
        "colab_type": "code",
        "colab": {}
      },
      "cell_type": "code",
      "source": [
        ""
      ],
      "execution_count": 0,
      "outputs": []
    }
  ]
}