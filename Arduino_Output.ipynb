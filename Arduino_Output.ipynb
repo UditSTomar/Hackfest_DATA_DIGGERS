{
 "cells": [
  {
   "cell_type": "code",
   "execution_count": null,
   "metadata": {},
   "outputs": [
    {
     "name": "stdout",
     "output_type": "stream",
     "text": [
      "b'Hi!, I am Arduino\\r\\n'\n",
      "Enter 1 to turn ON LED and 0 to turn OFF LED\n",
      "1\n",
      "you entered 1\n",
      "Yes\n",
      "LED turned ON\n",
      "0\n",
      "you entered 0\n",
      "LED turned OF1F\n"
     ]
    }
   ],
   "source": [
    "import serial #Serial imported for Serial communication\n",
    "import time #Required to use delay functions\n",
    " \n",
    "ArduinoSerial = serial.Serial('COM3',9600) #Create Serial port object called arduinoSerialData\n",
    "time.sleep(2) #wait for 2 secounds for the communication to get established\n",
    "\n",
    "print(ArduinoSerial.readline()) #read the serial data and print it as line\n",
    "print (\"Enter 1 to turn ON LED and 0 to turn OFF LED\")\n",
    "\n",
    " \n",
    "while 1: #Do this forever\n",
    "\n",
    "    var = input() #get input from user\n",
    "    print(\"you entered\", var) #print the intput for confirmation\n",
    "    \n",
    "    if (var == \"1\"): #if the value is 1\n",
    "        print(\"Yes\")\n",
    "        ArduinoSerial.write(b'1') #send 1\n",
    "        print(\"LED turned ON\")\n",
    "        time.sleep(1)\n",
    "    \n",
    "    if (var == \"0\"): #if the value is 0\n",
    "        ArduinoSerial.write(b'0') #send 0\n",
    "        print (\"LED turned OF1F\")\n",
    "        time.sleep(1)"
   ]
  },
  {
   "cell_type": "code",
   "execution_count": null,
   "metadata": {},
   "outputs": [],
   "source": []
  }
 ],
 "metadata": {
  "kernelspec": {
   "display_name": "Python 3",
   "language": "python",
   "name": "python3"
  },
  "language_info": {
   "codemirror_mode": {
    "name": "ipython",
    "version": 3
   },
   "file_extension": ".py",
   "mimetype": "text/x-python",
   "name": "python",
   "nbconvert_exporter": "python",
   "pygments_lexer": "ipython3",
   "version": "3.7.1"
  }
 },
 "nbformat": 4,
 "nbformat_minor": 2
}
